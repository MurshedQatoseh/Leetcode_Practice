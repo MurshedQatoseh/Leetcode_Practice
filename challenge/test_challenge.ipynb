{
 "cells": [
  {
   "cell_type": "markdown",
   "metadata": {},
   "source": [
    "## Leet code\n",
    "\n",
    "For today you will be solving some selected challenges on leetcode, please create an account if you don't have then\n",
    "Follow the links below:\n",
    "read them carefully and solve them then copy-paste your solution below in Code Block\n"
   ]
  },
  {
   "cell_type": "markdown",
   "metadata": {},
   "source": [
    "### **Question-01**:\n",
    "-----\n"
   ]
  },
  {
   "cell_type": "markdown",
   "metadata": {},
   "source": [
    "##### [Roman-To-Integer](https://leetcode.com/problems/roman-to-integer/)\n",
    "\n",
    "Solution:\n"
   ]
  },
  {
   "cell_type": "code",
   "execution_count": null,
   "metadata": {},
   "outputs": [],
   "source": [
    "def romanToInt(s):\n",
    "    dict = {\"I\":1, \"V\":5, \"X\":10, \"L\":50, \"C\":100, \"D\":500, \"M\":1000}\n",
    "    if s in dict:\n",
    "        return(dict[s])\n",
    "    else:\n",
    "        x = []\n",
    "        num = 0\n",
    "        for i in s:\n",
    "            x.append(i)\n",
    "        j = 0\n",
    "        while j < len(x):\n",
    "            try:\n",
    "                if dict[x[j]] >= dict[x[j+1]]:\n",
    "                    num += dict[x[j]]\n",
    "                else:\n",
    "                    num = num + (dict[x[j+1]] - dict[x[j]] )\n",
    "                    j += 1\n",
    "            except IndexError:\n",
    "                if dict[x[j-1]] >= dict[x[j]]:\n",
    "                        num += dict[x[j]]\n",
    "            j += 1\n",
    "\n",
    "        return(num)\n"
   ]
  },
  {
   "cell_type": "markdown",
   "metadata": {},
   "source": [
    "##### testing:"
   ]
  },
  {
   "cell_type": "code",
   "execution_count": null,
   "metadata": {},
   "outputs": [],
   "source": [
    "\n",
    "assert  58  ==  romanToInt(\"LVIII\")\n",
    "assert 1994 ==  romanToInt(\"MCMXCIV\")\n",
    "assert 3    ==  romanToInt(\"III\")"
   ]
  },
  {
   "cell_type": "markdown",
   "metadata": {},
   "source": [
    "##### Big(O):"
   ]
  },
  {
   "cell_type": "markdown",
   "metadata": {},
   "source": []
  },
  {
   "cell_type": "markdown",
   "metadata": {},
   "source": [
    "### **Question-02**:\n",
    "--------"
   ]
  },
  {
   "cell_type": "markdown",
   "metadata": {},
   "source": [
    "##### [single-number](https://leetcode.com/problems/single-number/)\n",
    "\n",
    "Solution:\n"
   ]
  },
  {
   "cell_type": "code",
   "execution_count": null,
   "metadata": {},
   "outputs": [],
   "source": [
    "def singleNumber(nums):\n",
    "        my_dict = {}\n",
    "        for i in nums:\n",
    "            if i in my_dict:\n",
    "                my_dict[i] += 1\n",
    "            else:\n",
    "                my_dict[i] = 1\n",
    "        \n",
    "        for i in my_dict:\n",
    "            if my_dict[i] == 1:\n",
    "                return i"
   ]
  },
  {
   "cell_type": "markdown",
   "metadata": {},
   "source": [
    "##### testing:"
   ]
  },
  {
   "cell_type": "code",
   "execution_count": null,
   "metadata": {},
   "outputs": [],
   "source": [
    "\n",
    "assert 1 ==  singleNumber([2,2,1])\n",
    "assert 4 ==  singleNumber([4,1,2,1,2])\n",
    "assert 1 ==  singleNumber([1])"
   ]
  },
  {
   "cell_type": "markdown",
   "metadata": {},
   "source": [
    "##### Big(O):"
   ]
  },
  {
   "cell_type": "markdown",
   "metadata": {},
   "source": []
  },
  {
   "cell_type": "markdown",
   "metadata": {},
   "source": [
    "### **Question-03**:\n",
    "------"
   ]
  },
  {
   "cell_type": "markdown",
   "metadata": {},
   "source": [
    "##### [Move Zeroes](https://leetcode.com/problems/move-zeroes/)\n",
    "\n",
    "Solution:\n"
   ]
  },
  {
   "cell_type": "code",
   "execution_count": null,
   "metadata": {},
   "outputs": [],
   "source": [
    "def moveZeroes(nums):\n",
    "    for i in nums:\n",
    "        if i == 0:\n",
    "            nums.pop(nums.index(i))\n",
    "            nums.append(0)\n",
    "    return nums"
   ]
  },
  {
   "cell_type": "markdown",
   "metadata": {},
   "source": [
    "##### testing:"
   ]
  },
  {
   "cell_type": "code",
   "execution_count": null,
   "metadata": {},
   "outputs": [],
   "source": [
    "assert[1,3,12,0,0]==  moveZeroes([0,1,0,3,12])\n",
    "assert [0] ==  moveZeroes([0])\n",
    "assert [3,2,4,0,0,0] ==  moveZeroes([0,3,0,0,2,4])"
   ]
  },
  {
   "cell_type": "markdown",
   "metadata": {},
   "source": [
    "##### Big(O):"
   ]
  },
  {
   "cell_type": "markdown",
   "metadata": {},
   "source": []
  },
  {
   "cell_type": "markdown",
   "metadata": {},
   "source": [
    "### **Question-04**:\n",
    "------"
   ]
  },
  {
   "cell_type": "markdown",
   "metadata": {},
   "source": [
    "##### [longest-common-prefix](https://leetcode.com/problems/longest-common-prefix/)\n",
    "\n",
    "Solution:\n"
   ]
  },
  {
   "cell_type": "code",
   "execution_count": null,
   "metadata": {},
   "outputs": [],
   "source": [
    "def longestCommonPrefix(strs):\n",
    "    shortest_word = strs[0]\n",
    "    longest_word = strs[0]\n",
    "    longest_common = \"\"\n",
    "    dict = {}\n",
    "\n",
    "    for i in range(len(strs)):\n",
    "        if len(strs[i]) < len(shortest_word):\n",
    "            shortest_word = strs[i]\n",
    "        if len(strs[i]) > len(longest_word):\n",
    "            longest_word = strs[i]\n",
    "\n",
    "    for i in range(len(longest_word)):\n",
    "        dict[i] = {\"letter\":longest_word[i], \"index\":i, \"occur\":0,}\n",
    "\n",
    "    for i in range(len(strs)):\n",
    "        for j in range(len(strs[i])):\n",
    "            if strs[i][j] in dict[j][\"letter\"] and j == dict[j][\"index\"]:\n",
    "                dict[j][\"occur\"] += 1 \n",
    "\n",
    "    x = 0\n",
    "    for value in dict.values():\n",
    "        if value[\"occur\"] == len(strs) and value[\"index\"] == x:\n",
    "            longest_common += value[\"letter\"]\n",
    "            x += 1\n",
    "\n",
    "    return(longest_common)"
   ]
  },
  {
   "cell_type": "markdown",
   "metadata": {},
   "source": [
    "##### testing:"
   ]
  },
  {
   "cell_type": "code",
   "execution_count": 14,
   "metadata": {},
   "outputs": [],
   "source": [
    "assert\"fl\"==  longestCommonPrefix([\"flower\",\"flow\",\"flight\"])\n",
    "assert  \"\" ==  longestCommonPrefix ([\"dog\",\"racecar\",\"car\"])\n",
    "assert \"tra\" ==  longestCommonPrefix([\"transform\",\"transcribe\",\"train\"])"
   ]
  },
  {
   "cell_type": "markdown",
   "metadata": {},
   "source": [
    "##### Big(O):"
   ]
  },
  {
   "cell_type": "markdown",
   "metadata": {},
   "source": []
  }
 ],
 "metadata": {
  "kernelspec": {
   "display_name": "Python 3.9.5 64-bit ('3.9.5')",
   "language": "python",
   "name": "python3"
  },
  "language_info": {
   "codemirror_mode": {
    "name": "ipython",
    "version": 3
   },
   "file_extension": ".py",
   "mimetype": "text/x-python",
   "name": "python",
   "nbconvert_exporter": "python",
   "pygments_lexer": "ipython3",
   "version": "3.9.5"
  },
  "orig_nbformat": 4,
  "vscode": {
   "interpreter": {
    "hash": "e463d4507d294650ecd3dcb45b8d0e22945e7617ed47139de19af981b9edd7d0"
   }
  }
 },
 "nbformat": 4,
 "nbformat_minor": 2
}
